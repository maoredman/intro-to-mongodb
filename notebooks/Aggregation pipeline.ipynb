{
 "cells": [
  {
   "cell_type": "code",
   "execution_count": null,
   "metadata": {},
   "outputs": [],
   "source": [
    "from pymongo import MongoClient\n",
    "from pprint import pprint"
   ]
  },
  {
   "cell_type": "code",
   "execution_count": null,
   "metadata": {},
   "outputs": [],
   "source": [
    "atlas_URI = open(\"atlas_URI.txt\").read().strip()"
   ]
  },
  {
   "cell_type": "code",
   "execution_count": null,
   "metadata": {},
   "outputs": [],
   "source": [
    "client = MongoClient(atlas_URI)\n",
    "db = client.mflix\n",
    "movies_initial_col = db.movies_initial"
   ]
  },
  {
   "cell_type": "markdown",
   "metadata": {},
   "source": [
    "#### the two pipelines below do the same thing"
   ]
  },
  {
   "cell_type": "code",
   "execution_count": null,
   "metadata": {},
   "outputs": [],
   "source": [
    "pipeline = [\n",
    "    {\n",
    "        '$group': { # Aggregation pipeline stage\n",
    "            '_id': \"$language\",\n",
    "            'count': {'$sum': 1} # Aggregation pipeline operator\n",
    "        }\n",
    "    },\n",
    "    {\n",
    "        '$sort': {'count': -1}\n",
    "    }\n",
    "]\n",
    "\n",
    "pipeline = [\n",
    "    {\n",
    "        '$sortByCount': \"$language\"\n",
    "    }\n",
    "]"
   ]
  },
  {
   "cell_type": "markdown",
   "metadata": {},
   "source": [
    "#### `$facet` allows two pipelines to run concurrently"
   ]
  },
  {
   "cell_type": "code",
   "execution_count": null,
   "metadata": {},
   "outputs": [],
   "source": [
    "pipeline = [\n",
    "    {\n",
    "        '$sortByCount': \"$language\"\n",
    "    },\n",
    "    {\n",
    "        '$facet': {\n",
    "            'top language combinations': [{'$limit': 20}],\n",
    "            'unusual combinations shared by': [{\n",
    "                '$skip': 20\n",
    "            },\n",
    "            {\n",
    "                '$bucketAuto': {\n",
    "                    'groupBy': \"$count\",\n",
    "                    'buckets': 5,\n",
    "                    'output': {\n",
    "                        'language combinations': {'$sum': 1}\n",
    "                    }\n",
    "                }\n",
    "            }]\n",
    "        }\n",
    "    }\n",
    "]"
   ]
  },
  {
   "cell_type": "markdown",
   "metadata": {},
   "source": [
    "#### Aggregation framework's `$match` can also be replaced with `collection.find()`"
   ]
  },
  {
   "cell_type": "code",
   "execution_count": null,
   "metadata": {},
   "outputs": [],
   "source": [
    "pipeline = [\n",
    "    {\n",
    "        '$match': {'language': 'Korean, English'}\n",
    "    }\n",
    "]\n",
    "\n",
    "list(movies_initial_col.find({'language': 'Korean, English'}))"
   ]
  },
  {
   "cell_type": "markdown",
   "metadata": {},
   "source": [
    "#### `$project`"
   ]
  },
  {
   "cell_type": "code",
   "execution_count": null,
   "metadata": {},
   "outputs": [],
   "source": [
    "pipeline = [\n",
    "    {\n",
    "        '$limit': 100\n",
    "    },\n",
    "    {\n",
    "        '$addFields': {\n",
    "            'lastupdated': {\n",
    "                '$arrayElemAt': [\n",
    "                    {'$split': [\"$lastupdated\", \".\"]},\n",
    "                    0\n",
    "                ]}\n",
    "        }\n",
    "    },\n",
    "    {\n",
    "        '$project': {\n",
    "            'title': 1,\n",
    "            'year': 1,\n",
    "            'directors': {'$split': [\"$director\", \", \"]},\n",
    "            'actors': {'$split': [\"$cast\", \", \"]},\n",
    "            'writers': {'$split': [\"$writer\", \", \"]},\n",
    "            'genres': {'$split': [\"$genre\", \", \"]},\n",
    "            'languages': {'$split': [\"$language\", \", \"]},\n",
    "            'countries': {'$split': [\"$country\", \", \"]},\n",
    "            'plot': 1,\n",
    "            'fullPlot': \"$fullplot\",\n",
    "            'rated': \"$rating\",\n",
    "            'released': {\n",
    "                '$cond': {\n",
    "                    'if': {'$ne': [\"$released\", \"\"]},\n",
    "                    'then': {\n",
    "                        '$dateFromString': {\n",
    "                            'dateString': \"$released\"\n",
    "                        }\n",
    "                    },\n",
    "                    'else': \"\"\n",
    "                }\n",
    "            },\n",
    "            'runtime': 1,\n",
    "            'poster': 1,\n",
    "            'imdb': {\n",
    "                'id': \"$imdbID\",\n",
    "                'rating': \"$imdbRating\",\n",
    "                'votes': \"$imdbVotes\"\n",
    "                },\n",
    "            'metacritic': 1,\n",
    "            'awards': 1,\n",
    "            'type': 1,\n",
    "            'lastUpdated': {\n",
    "                '$cond': {\n",
    "                    'if': {'$ne': [\"$lastupdated\", \"\"]},\n",
    "                    'then': {\n",
    "                        '$dateFromString': {\n",
    "                            'dateString': \"$lastupdated\",\n",
    "                            'timezone': \"America/New_York\"\n",
    "                        }\n",
    "                    },\n",
    "                    'else': \"\"\n",
    "                }\n",
    "            }\n",
    "        }\n",
    "    },\n",
    "    {\n",
    "        '$out': \"movies_scratch\"\n",
    "    }\n",
    "]"
   ]
  },
  {
   "cell_type": "code",
   "execution_count": null,
   "metadata": {},
   "outputs": [],
   "source": [
    "pprint(list(client.mflix.movies_initial.aggregate(pipeline)))"
   ]
  },
  {
   "cell_type": "code",
   "execution_count": null,
   "metadata": {},
   "outputs": [],
   "source": []
  }
 ],
 "metadata": {
  "kernelspec": {
   "display_name": "Python 3",
   "language": "python",
   "name": "python3"
  },
  "language_info": {
   "codemirror_mode": {
    "name": "ipython",
    "version": 3
   },
   "file_extension": ".py",
   "mimetype": "text/x-python",
   "name": "python",
   "nbconvert_exporter": "python",
   "pygments_lexer": "ipython3",
   "version": "3.6.4"
  }
 },
 "nbformat": 4,
 "nbformat_minor": 2
}
