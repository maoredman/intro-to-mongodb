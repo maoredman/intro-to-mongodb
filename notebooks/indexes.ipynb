{
 "cells": [
  {
   "cell_type": "markdown",
   "metadata": {},
   "source": [
    "Connect to MongoDB Atlas\n",
    "------------------------"
   ]
  },
  {
   "cell_type": "code",
   "execution_count": 1,
   "metadata": {},
   "outputs": [],
   "source": [
    "import pymongo, pprint"
   ]
  },
  {
   "cell_type": "code",
   "execution_count": 2,
   "metadata": {},
   "outputs": [],
   "source": [
    "atlas_URI = open(\"atlas_URI.txt\").read().strip()\n",
    "client = pymongo.MongoClient(atlas_URI)"
   ]
  },
  {
   "cell_type": "markdown",
   "metadata": {},
   "source": [
    "List Indexes\n",
    "-----------"
   ]
  },
  {
   "cell_type": "code",
   "execution_count": 3,
   "metadata": {
    "scrolled": true
   },
   "outputs": [
    {
     "name": "stdout",
     "output_type": "stream",
     "text": [
      "{'_id_': {'key': [('_id', 1)], 'ns': 'mflix.movies', 'v': 2},\n",
      " 'genres_1_tomatoes.viewer.numReviews_-1': {'key': [('genres', 1),\n",
      "                                                    ('tomatoes.viewer.numReviews',\n",
      "                                                     -1)],\n",
      "                                            'ns': 'mflix.movies',\n",
      "                                            'v': 2},\n",
      " 'title_text_cast_text_directors_text': {'default_language': 'english',\n",
      "                                         'key': [('_fts', 'text'),\n",
      "                                                 ('_ftsx', 1)],\n",
      "                                         'language_override': 'language',\n",
      "                                         'ns': 'mflix.movies',\n",
      "                                         'textIndexVersion': 3,\n",
      "                                         'v': 2,\n",
      "                                         'weights': {'cast': 1,\n",
      "                                                     'directors': 1,\n",
      "                                                     'title': 1}},\n",
      " 'tomatoes.viewer.numReviews_-1': {'key': [('tomatoes.viewer.numReviews', -1)],\n",
      "                                   'ns': 'mflix.movies',\n",
      "                                   'v': 2}}\n"
     ]
    }
   ],
   "source": [
    "# get list of indexes on movies collection\n",
    "pprint.pprint(client.mflix.movies.index_information())"
   ]
  },
  {
   "cell_type": "code",
   "execution_count": 6,
   "metadata": {},
   "outputs": [
    {
     "name": "stdout",
     "output_type": "stream",
     "text": [
      "{'_id': ObjectId('573a1390f29313caabcd4132'),\n",
      " 'cast': ['Carmencita'],\n",
      " 'countries': ['USA'],\n",
      " 'directors': ['William K.L. Dickson'],\n",
      " 'fullplot': 'Performing on what looks like a small wooden stage, wearing a '\n",
      "             'dress with a hoop skirt and white high-heeled pumps, Carmencita '\n",
      "             'does a dance with kicks and twirls, a smile always on her face.',\n",
      " 'genres': ['Documentary', 'Short'],\n",
      " 'imdb': {'id': 1, 'rating': 5.9, 'votes': 1032},\n",
      " 'lastupdated': '2015-08-26 00:03:45.040000000',\n",
      " 'plot': 'Performing on what looks like a small wooden stage, wearing a dress '\n",
      "         'with a hoop skirt and white high-heeled pumps, Carmencita does a '\n",
      "         'dance with kicks and twirls, a smile always on her face.',\n",
      " 'poster': 'http://ia.media-imdb.com/images/M/MV5BMjAzNDEwMzk3OV5BMl5BanBnXkFtZTcwOTk4OTM5Ng@@._V1_SX300.jpg',\n",
      " 'rated': 'NOT RATED',\n",
      " 'runtime': 1,\n",
      " 'title': 'Carmencita',\n",
      " 'type': 'movie',\n",
      " 'year': 1894}\n"
     ]
    }
   ],
   "source": [
    "pprint.pprint(client.mflix.movies.find_one())"
   ]
  },
  {
   "cell_type": "markdown",
   "metadata": {},
   "source": [
    "Explain a Query\n",
    "--------------"
   ]
  },
  {
   "cell_type": "code",
   "execution_count": 7,
   "metadata": {
    "scrolled": true
   },
   "outputs": [
    {
     "data": {
      "text/plain": [
       "{'$clusterTime': {'clusterTime': Timestamp(1547956437, 5),\n",
       "  'signature': {'hash': b')\\xf2}\\xd5\\xd5\\x95\\x88\\xbe\\xca\\x1d\\x06\\x84\\xba\\x1d\\x1d\\x00t%,j',\n",
       "   'keyId': 6615991365337612289}},\n",
       " 'executionStats': {'executionStages': {'advanced': 35519,\n",
       "   'alreadyHasObj': 0,\n",
       "   'docsExamined': 35519,\n",
       "   'executionTimeMillisEstimate': 250,\n",
       "   'inputStage': {'advanced': 35519,\n",
       "    'direction': 'forward',\n",
       "    'dupsDropped': 0,\n",
       "    'dupsTested': 0,\n",
       "    'executionTimeMillisEstimate': 20,\n",
       "    'indexBounds': {'tomatoes.viewer.numReviews': ['[inf.0, 10)']},\n",
       "    'indexName': 'tomatoes.viewer.numReviews_-1',\n",
       "    'indexVersion': 2,\n",
       "    'invalidates': 0,\n",
       "    'isEOF': 1,\n",
       "    'isMultiKey': False,\n",
       "    'isPartial': False,\n",
       "    'isSparse': False,\n",
       "    'isUnique': False,\n",
       "    'keyPattern': {'tomatoes.viewer.numReviews': -1},\n",
       "    'keysExamined': 35519,\n",
       "    'multiKeyPaths': {'tomatoes.viewer.numReviews': []},\n",
       "    'nReturned': 35519,\n",
       "    'needTime': 0,\n",
       "    'needYield': 0,\n",
       "    'restoreState': 277,\n",
       "    'saveState': 277,\n",
       "    'seeks': 1,\n",
       "    'seenInvalidated': 0,\n",
       "    'stage': 'IXSCAN',\n",
       "    'works': 35520},\n",
       "   'invalidates': 0,\n",
       "   'isEOF': 1,\n",
       "   'nReturned': 35519,\n",
       "   'needTime': 0,\n",
       "   'needYield': 0,\n",
       "   'restoreState': 277,\n",
       "   'saveState': 277,\n",
       "   'stage': 'FETCH',\n",
       "   'works': 35520},\n",
       "  'executionSuccess': True,\n",
       "  'executionTimeMillis': 268,\n",
       "  'nReturned': 35519,\n",
       "  'totalDocsExamined': 35519,\n",
       "  'totalKeysExamined': 35519},\n",
       " 'ok': 1.0,\n",
       " 'operationTime': Timestamp(1547956437, 5),\n",
       " 'queryPlanner': {'indexFilterSet': False,\n",
       "  'namespace': 'mflix.movies',\n",
       "  'parsedQuery': {'tomatoes.viewer.numReviews': {'$gt': 10}},\n",
       "  'plannerVersion': 1,\n",
       "  'rejectedPlans': [],\n",
       "  'winningPlan': {'inputStage': {'direction': 'forward',\n",
       "    'indexBounds': {'tomatoes.viewer.numReviews': ['[inf.0, 10)']},\n",
       "    'indexName': 'tomatoes.viewer.numReviews_-1',\n",
       "    'indexVersion': 2,\n",
       "    'isMultiKey': False,\n",
       "    'isPartial': False,\n",
       "    'isSparse': False,\n",
       "    'isUnique': False,\n",
       "    'keyPattern': {'tomatoes.viewer.numReviews': -1},\n",
       "    'multiKeyPaths': {'tomatoes.viewer.numReviews': []},\n",
       "    'stage': 'IXSCAN'},\n",
       "   'stage': 'FETCH'}},\n",
       " 'serverInfo': {'gitVersion': '3739429dd92b92d1b0ab120911a23d50bf03c412',\n",
       "  'host': 'first-cluster-shard-00-00-dmmqs.azure.mongodb.net',\n",
       "  'port': 27017,\n",
       "  'version': '4.0.5'}}"
      ]
     },
     "execution_count": 7,
     "metadata": {},
     "output_type": "execute_result"
    }
   ],
   "source": [
    "explain = {\n",
    "    \"explain\": {\n",
    "        \"find\": \"movies\",\n",
    "        \"filter\": {\n",
    "            \"tomatoes.viewer.numReviews\": {\"$gt\": 10}\n",
    "        },\n",
    "    },\n",
    "    \"verbosity\": \"executionStats\"\n",
    "}\n",
    "client.mflix.command(explain)"
   ]
  },
  {
   "cell_type": "markdown",
   "metadata": {},
   "source": [
    "Text Search vs Exact Match\n",
    "-------------------------"
   ]
  },
  {
   "cell_type": "code",
   "execution_count": 8,
   "metadata": {},
   "outputs": [
    {
     "name": "stdout",
     "output_type": "stream",
     "text": [
      "'Titanic'\n",
      "'Titanic'\n",
      "'Titanic'\n"
     ]
    }
   ],
   "source": [
    "filters = {\"title\": \"Titanic\"}\n",
    "for m in client.mflix.movies.find(filters):\n",
    "    pprint.pprint(m['title'])"
   ]
  },
  {
   "cell_type": "code",
   "execution_count": 9,
   "metadata": {},
   "outputs": [
    {
     "name": "stdout",
     "output_type": "stream",
     "text": [
      "'Titanic'\n",
      "['Leonardo DiCaprio', 'Kate Winslet', 'Billy Zane', 'Kathy Bates']\n",
      "['James Cameron']\n",
      "'======'\n",
      "'Titanic'\n",
      "['Peter Gallagher',\n",
      " 'George C. Scott',\n",
      " 'Catherine Zeta-Jones',\n",
      " 'Eva Marie Saint']\n",
      "''\n",
      "'======'\n",
      "'Titanic'\n",
      "['Clifton Webb', 'Barbara Stanwyck', 'Robert Wagner', 'Audrey Dalton']\n",
      "['Jean Negulesco']\n",
      "'======'\n",
      "'Drain the Titanic'\n",
      "['Brad Cartner']\n",
      "''\n",
      "'======'\n",
      "'Attack on Titan'\n",
      "['Haruma Miura', 'Kiko Mizuhara', 'Kanata Hong�', 'Satomi Ishihara']\n",
      "['Shinji Higuchi']\n",
      "'======'\n",
      "'Wrath of the Titans'\n",
      "['Sam Worthington', 'Liam Neeson', 'Ralph Fiennes', '�dgar Ram�rez']\n",
      "['Jonathan Liebesman']\n",
      "'======'\n",
      "'Titanic II'\n",
      "['Shane Van Dyke', 'Marie Westbrook', 'Bruce Davison', 'Brooke Burns']\n",
      "['Shane Van Dyke']\n",
      "'======'\n",
      "'Clash of the Titans'\n",
      "['Sam Worthington', 'Liam Neeson', 'Ralph Fiennes', 'Jason Flemyng']\n",
      "['Louis Leterrier']\n",
      "'======'\n",
      "'Remember the Titans'\n",
      "['Denzel Washington', 'Will Patton', 'Wood Harris', 'Ryan Hurst']\n",
      "['Boaz Yakin']\n",
      "'======'\n",
      "'The Chambermaid on the Titanic'\n",
      "['Olivier Martinez',\n",
      " 'Romane Bohringer',\n",
      " 'Aitana S�nchez-Gij�n',\n",
      " 'Didier Bezace']\n",
      "['Bigas Luna']\n",
      "'======'\n",
      "'Titanic Town'\n",
      "['Julie Walters', 'Ciar�n Hinds', \"Nuala O'Neill\", 'James Loughran']\n",
      "['Roger Michell']\n",
      "'======'\n",
      "'Titan A.E.'\n",
      "['Matt Damon', 'Bill Pullman', 'John Leguizamo', 'Nathan Lane']\n",
      "['Don Bluth', 'Gary Goldman', 'Art Vitello']\n",
      "'======'\n",
      "'Clash of the Titans'\n",
      "['Laurence Olivier', 'Claire Bloom', 'Maggie Smith', 'Ursula Andress']\n",
      "['Desmond Davis']\n",
      "'======'\n",
      "'Raise the Titanic'\n",
      "['Jason Robards', 'Richard Jordan', 'David Selby', 'Anne Archer']\n",
      "['Jerry Jameson']\n",
      "'======'\n",
      "'Attack on Titan: End of the World'\n",
      "['Kiko Mizuhara', 'Kanata Hong�', 'Nanami Sakuraba', 'Ayame Misaki']\n",
      "['Shinji Higuchi']\n",
      "'======'\n",
      "'Titanic at 100: Mystery Solved'\n",
      "['Jonathan Adams', 'Christopher Davino', 'James P. Delgado', 'David Gallo']\n",
      "['Tony Bacon', 'Rushmore DeNooyer']\n",
      "'======'\n",
      "'The Ten Lives of Titanic the Cat'\n",
      "['Edvard L�vold Gaukstad',\n",
      " 'Yngve Berven',\n",
      " 'Ulla Marie Broch',\n",
      " 'Inger Dietrichs']\n",
      "['Grethe B�e']\n",
      "'======'\n",
      "'Teen Titans: Trouble in Tokyo'\n",
      "['Greg Cipes', 'Scott Menville', 'Khary Payton', 'Tara Strong']\n",
      "['Michael Chang', 'Ben Jones', 'Matt Youngberg']\n",
      "'======'\n",
      "'Deathstalker IV: Match of Titans'\n",
      "['Rick Hill', 'Maria Ford', 'Brett Baxter Clark', 'Michelle Moffett']\n",
      "['Howard R. Cohen']\n",
      "'======'\n",
      "'Attack on Titan Crimson Bow and Arrow'\n",
      "['Yuki Kaji', 'Yui Ishikawa', 'Marina Inoue', 'Kish� Taniyama']\n",
      "['Tetsuro Araki']\n",
      "'======'\n",
      "'Titanic: The Final Word with James Cameron'\n",
      "['James Cameron', 'Ken Marschall', 'Paul-Henri Nargeolet', 'Bill Sauder']\n",
      "['Tony Gerber']\n",
      "'======'\n",
      "'Ray Harryhausen: Special Effects Titan'\n",
      "['Ray Harryhausen', 'Peter Jackson', 'James Cameron', 'John Landis']\n",
      "['Gilles Penso']\n",
      "'======'\n"
     ]
    }
   ],
   "source": [
    "filters = { \"$text\": { \n",
    "    \"$search\": \"titanic\"\n",
    "}} \n",
    "for m in client.mflix.movies.find(filters):\n",
    "    pprint.pprint(m['title'])\n",
    "    pprint.pprint(m['cast'])\n",
    "    pprint.pprint(m.get('directors', \"\"))\n",
    "    pprint.pprint(\"======\")"
   ]
  },
  {
   "cell_type": "markdown",
   "metadata": {},
   "source": [
    "Create an Index\n",
    "--------------"
   ]
  },
  {
   "cell_type": "code",
   "execution_count": 10,
   "metadata": {},
   "outputs": [
    {
     "data": {
      "text/plain": [
       "'countries_1'"
      ]
     },
     "execution_count": 10,
     "metadata": {},
     "output_type": "execute_result"
    }
   ],
   "source": [
    "client.mflix.movies.create_index([(\"countries\", pymongo.ASCENDING)])"
   ]
  },
  {
   "cell_type": "code",
   "execution_count": null,
   "metadata": {},
   "outputs": [],
   "source": []
  }
 ],
 "metadata": {
  "kernelspec": {
   "display_name": "Python 3",
   "language": "python",
   "name": "python3"
  },
  "language_info": {
   "codemirror_mode": {
    "name": "ipython",
    "version": 3
   },
   "file_extension": ".py",
   "mimetype": "text/x-python",
   "name": "python",
   "nbconvert_exporter": "python",
   "pygments_lexer": "ipython3",
   "version": "3.6.4"
  }
 },
 "nbformat": 4,
 "nbformat_minor": 2
}
