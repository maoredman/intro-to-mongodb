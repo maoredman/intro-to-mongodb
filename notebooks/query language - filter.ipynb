{
 "cells": [
  {
   "cell_type": "code",
   "execution_count": null,
   "metadata": {},
   "outputs": [],
   "source": [
    "from pymongo import MongoClient\n",
    "import pprint, dateparser"
   ]
  },
  {
   "cell_type": "code",
   "execution_count": null,
   "metadata": {},
   "outputs": [],
   "source": [
    "atlas_URI = open(\"atlas_URI.txt\").read().strip()"
   ]
  },
  {
   "cell_type": "code",
   "execution_count": null,
   "metadata": {},
   "outputs": [],
   "source": [
    "client = MongoClient(atlas_URI)"
   ]
  },
  {
   "cell_type": "markdown",
   "metadata": {},
   "source": [
    "#### containing exactly these two elements"
   ]
  },
  {
   "cell_type": "code",
   "execution_count": null,
   "metadata": {},
   "outputs": [],
   "source": [
    "filter = {\n",
    "    'languages': ['Korean', 'English'] # contains only these two languages, no more no less\n",
    "}"
   ]
  },
  {
   "cell_type": "markdown",
   "metadata": {},
   "source": [
    "#### contains at least these two elements"
   ]
  },
  {
   "cell_type": "code",
   "execution_count": null,
   "metadata": {},
   "outputs": [],
   "source": [
    "filter = {\n",
    "    'languages': {'$all': ['Korean', 'English']} # has all of these languages (can have more)\n",
    "}"
   ]
  },
  {
   "cell_type": "code",
   "execution_count": null,
   "metadata": {},
   "outputs": [],
   "source": [
    "pprint.pprint(list(client.mflix.movies.find(filter)))"
   ]
  },
  {
   "cell_type": "markdown",
   "metadata": {},
   "source": [
    "#### sort, skip, limit"
   ]
  },
  {
   "cell_type": "code",
   "execution_count": null,
   "metadata": {},
   "outputs": [],
   "source": [
    "filter = {}"
   ]
  },
  {
   "cell_type": "code",
   "execution_count": null,
   "metadata": {},
   "outputs": [],
   "source": [
    "print(client.mflix.movies.count(filter)) # fast\n",
    "# print(len(list(client.mflix.movies.find(filter)))) # slow"
   ]
  },
  {
   "cell_type": "code",
   "execution_count": null,
   "metadata": {},
   "outputs": [],
   "source": [
    "sort_key = \"tomatoes.viewer.numReviews\"\n",
    "page = 0\n",
    "movies_per_page = 20\n",
    "\n",
    "movies = client.mflix.movies.find(filter) \\\n",
    "                  .sort(sort_key, -1) # -1 is descending"
   ]
  },
  {
   "cell_type": "code",
   "execution_count": null,
   "metadata": {},
   "outputs": [],
   "source": [
    "movies.skip(movies_per_page * page) \\\n",
    "               .limit(movies_per_page)"
   ]
  },
  {
   "cell_type": "code",
   "execution_count": null,
   "metadata": {},
   "outputs": [],
   "source": [
    "(list(movies))"
   ]
  },
  {
   "cell_type": "markdown",
   "metadata": {},
   "source": [
    "#### various conditional queries"
   ]
  },
  {
   "cell_type": "code",
   "execution_count": null,
   "metadata": {},
   "outputs": [],
   "source": [
    "filters = { 'year': { '$in': [ 1995, 2005, 2015 ] } } # year is one of those three choices"
   ]
  },
  {
   "cell_type": "code",
   "execution_count": null,
   "metadata": {},
   "outputs": [],
   "source": [
    "filters = { 'year': {'$gte': 1989, '$lt': 2000} } # 1989 <= year < 2000"
   ]
  },
  {
   "cell_type": "code",
   "execution_count": null,
   "metadata": {},
   "outputs": [],
   "source": [
    "# find all movies except the ones which are of adult genre\n",
    "filters = { 'year': { '$in': [ 1995, 2005, 2015 ] }, \n",
    "            'genre': { '$not' : {'$eq': 'Adult'} }\n",
    "          }"
   ]
  },
  {
   "cell_type": "code",
   "execution_count": null,
   "metadata": {
    "scrolled": true
   },
   "outputs": [],
   "source": [
    "for movie in client.mflix.movies.find(filters):\n",
    "    pprint.pprint(movie['title'])"
   ]
  },
  {
   "cell_type": "markdown",
   "metadata": {},
   "source": [
    "#### `$exists` and `find_one`'s projection"
   ]
  },
  {
   "cell_type": "code",
   "execution_count": null,
   "metadata": {},
   "outputs": [],
   "source": [
    "query = {\"comments\":{\"$exists\": True}}\n",
    "projection = {\"comments\": 1}\n",
    "\n",
    "movie = client.mflix.movies.find_one(query, projection)\n",
    "\n",
    "pprint.pprint(movie)"
   ]
  },
  {
   "cell_type": "markdown",
   "metadata": {},
   "source": [
    "#### `$elementMatch`"
   ]
  },
  {
   "cell_type": "code",
   "execution_count": null,
   "metadata": {
    "scrolled": true
   },
   "outputs": [],
   "source": [
    "# the query below: find movies that have comments with that name and that date condition\n",
    "# (can use different comments to fit the two conditions)\n",
    "query = {\n",
    "  \"comments.name\": \"Samwell Tarly\",\n",
    "  \"comments.date\": {\n",
    "    \"$lt\": dateparser.parse(\"1995-01-01\")\n",
    "  }\n",
    "}\n",
    "projection = {\"comments\": 1}\n",
    "\n",
    "comments = client.mflix.movies.find(query, projection).skip(1).limit(1)\n",
    "\n",
    "pprint.pprint(list(comments))"
   ]
  },
  {
   "cell_type": "code",
   "execution_count": null,
   "metadata": {
    "scrolled": true
   },
   "outputs": [],
   "source": [
    "# the query below: the movie has to have a comment that is by Samwell AND was written before 1995\n",
    "betterQuery = {\n",
    "  \"comments\": {\n",
    "    \"$elemMatch\": {\n",
    "      \"name\": \"Samwell Tarly\",\n",
    "      \"date\": {\n",
    "        \"$lt\": dateparser.parse(\"1995-01-01\")\n",
    "      }\n",
    "    }\n",
    "  }\n",
    "}\n",
    "\n",
    "correctMovies = list(client.mflix.movies.find(betterQuery, projection).limit(2))\n",
    "\n",
    "pprint.pprint(correctMovies)"
   ]
  },
  {
   "cell_type": "code",
   "execution_count": null,
   "metadata": {},
   "outputs": [],
   "source": []
  }
 ],
 "metadata": {
  "kernelspec": {
   "display_name": "Python 3",
   "language": "python",
   "name": "python3"
  },
  "language_info": {
   "codemirror_mode": {
    "name": "ipython",
    "version": 3
   },
   "file_extension": ".py",
   "mimetype": "text/x-python",
   "name": "python",
   "nbconvert_exporter": "python",
   "pygments_lexer": "ipython3",
   "version": "3.6.4"
  }
 },
 "nbformat": 4,
 "nbformat_minor": 2
}
